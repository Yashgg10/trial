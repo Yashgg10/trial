{
 "cells": [
  {
   "cell_type": "code",
   "execution_count": 1,
   "id": "2fe53fe2-40e1-4a67-99d3-4caf5d3f73ee",
   "metadata": {},
   "outputs": [],
   "source": [
    "q=5"
   ]
  },
  {
   "cell_type": "code",
   "execution_count": 2,
   "id": "81d8cd1f-8898-430a-936b-894ec120a9da",
   "metadata": {},
   "outputs": [
    {
     "data": {
      "text/plain": [
       "5"
      ]
     },
     "execution_count": 2,
     "metadata": {},
     "output_type": "execute_result"
    }
   ],
   "source": [
    "q\n"
   ]
  },
  {
   "cell_type": "code",
   "execution_count": null,
   "id": "26fb7c16-a88d-453c-8d70-5e76f4984000",
   "metadata": {},
   "outputs": [],
   "source": []
  }
 ],
 "metadata": {
  "kernelspec": {
   "display_name": "Python 3 (ipykernel)",
   "language": "python",
   "name": "python3"
  },
  "language_info": {
   "codemirror_mode": {
    "name": "ipython",
    "version": 3
   },
   "file_extension": ".py",
   "mimetype": "text/x-python",
   "name": "python",
   "nbconvert_exporter": "python",
   "pygments_lexer": "ipython3",
   "version": "3.10.8"
  }
 },
 "nbformat": 4,
 "nbformat_minor": 5
}
