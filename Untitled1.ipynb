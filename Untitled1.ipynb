{
 "cells": [
  {
   "cell_type": "code",
   "execution_count": 1,
   "id": "277c98c4-e7f1-4608-8e2e-8255d16b32f6",
   "metadata": {},
   "outputs": [
    {
     "name": "stdout",
     "output_type": "stream",
     "text": [
      "Hello world\n"
     ]
    }
   ],
   "source": [
    "print(\"Hello world\")"
   ]
  },
  {
   "cell_type": "code",
   "execution_count": 2,
   "id": "24d2d306-5e84-4a54-acc5-d0322807b564",
   "metadata": {},
   "outputs": [],
   "source": [
    "b = 3"
   ]
  },
  {
   "cell_type": "code",
   "execution_count": 3,
   "id": "f974cfb6-db81-4aaf-aa9e-74492e8aee6f",
   "metadata": {},
   "outputs": [
    {
     "data": {
      "text/plain": [
       "3"
      ]
     },
     "execution_count": 3,
     "metadata": {},
     "output_type": "execute_result"
    }
   ],
   "source": [
    "b\n"
   ]
  },
  {
   "cell_type": "code",
   "execution_count": 4,
   "id": "ecf29f7b-7545-4211-a3ae-4b819e665f70",
   "metadata": {},
   "outputs": [],
   "source": [
    "b=4.6"
   ]
  },
  {
   "cell_type": "code",
   "execution_count": 5,
   "id": "f22b1329-e6dd-4c3c-b543-9f782fe53c5e",
   "metadata": {},
   "outputs": [
    {
     "data": {
      "text/plain": [
       "4.6"
      ]
     },
     "execution_count": 5,
     "metadata": {},
     "output_type": "execute_result"
    }
   ],
   "source": [
    "b"
   ]
  },
  {
   "cell_type": "code",
   "execution_count": 6,
   "id": "ef9b4714-d59a-4c5d-9116-1e3b6bd22c13",
   "metadata": {},
   "outputs": [],
   "source": [
    "b = \"strinh\""
   ]
  },
  {
   "cell_type": "code",
   "execution_count": 7,
   "id": "b6cf6e41-f5d3-4e46-9cb2-b3b030970631",
   "metadata": {},
   "outputs": [
    {
     "data": {
      "text/plain": [
       "'strinh'"
      ]
     },
     "execution_count": 7,
     "metadata": {},
     "output_type": "execute_result"
    }
   ],
   "source": [
    "b"
   ]
  },
  {
   "cell_type": "code",
   "execution_count": 8,
   "id": "41e4cdf0-d54a-4bca-a9e0-128f855e42dd",
   "metadata": {},
   "outputs": [],
   "source": [
    "copmi = 2 + 3j"
   ]
  },
  {
   "cell_type": "code",
   "execution_count": 9,
   "id": "96de92db-59ec-4eee-a968-b703578a0d88",
   "metadata": {},
   "outputs": [
    {
     "ename": "NameError",
     "evalue": "name 'compi' is not defined",
     "output_type": "error",
     "traceback": [
      "\u001b[0;31m---------------------------------------------------------------------------\u001b[0m",
      "\u001b[0;31mNameError\u001b[0m                                 Traceback (most recent call last)",
      "Cell \u001b[0;32mIn[9], line 1\u001b[0m\n\u001b[0;32m----> 1\u001b[0m \u001b[43mcompi\u001b[49m\n",
      "\u001b[0;31mNameError\u001b[0m: name 'compi' is not defined"
     ]
    }
   ],
   "source": [
    "compi"
   ]
  },
  {
   "cell_type": "code",
   "execution_count": 10,
   "id": "da2ecd8e-0ace-4f09-9b83-3ae838a0f452",
   "metadata": {},
   "outputs": [
    {
     "data": {
      "text/plain": [
       "(2+3j)"
      ]
     },
     "execution_count": 10,
     "metadata": {},
     "output_type": "execute_result"
    }
   ],
   "source": [
    "copmi"
   ]
  },
  {
   "cell_type": "code",
   "execution_count": 11,
   "id": "6a8817a8-0c5a-42f8-a68c-40da256fb2f2",
   "metadata": {},
   "outputs": [
    {
     "data": {
      "text/plain": [
       "complex"
      ]
     },
     "execution_count": 11,
     "metadata": {},
     "output_type": "execute_result"
    }
   ],
   "source": [
    "type(copmi)"
   ]
  },
  {
   "cell_type": "code",
   "execution_count": 12,
   "id": "7042f5b6-c246-4e41-8b1d-af55792a4d4e",
   "metadata": {},
   "outputs": [
    {
     "data": {
      "text/plain": [
       "2.0"
      ]
     },
     "execution_count": 12,
     "metadata": {},
     "output_type": "execute_result"
    }
   ],
   "source": [
    "copmi.real"
   ]
  },
  {
   "cell_type": "code",
   "execution_count": 13,
   "id": "8b43a54b-c1a0-4bdf-b213-7847055a110a",
   "metadata": {},
   "outputs": [
    {
     "name": "stdout",
     "output_type": "stream",
     "text": [
      "\n",
      "Here is a list of the Python keywords.  Enter any keyword to get more help.\n",
      "\n",
      "False               class               from                or\n",
      "None                continue            global              pass\n",
      "True                def                 if                  raise\n",
      "and                 del                 import              return\n",
      "as                  elif                in                  try\n",
      "assert              else                is                  while\n",
      "async               except              lambda              with\n",
      "await               finally             nonlocal            yield\n",
      "break               for                 not                 \n",
      "\n"
     ]
    }
   ],
   "source": [
    "help('keywords')"
   ]
  },
  {
   "cell_type": "code",
   "execution_count": 14,
   "id": "3ecfe303-89aa-4702-84b0-48f079857100",
   "metadata": {},
   "outputs": [
    {
     "name": "stdin",
     "output_type": "stream",
     "text": [
      "please enter your name:  YASH\n"
     ]
    }
   ],
   "source": [
    "name = input(\"please enter your name: \")"
   ]
  },
  {
   "cell_type": "code",
   "execution_count": 15,
   "id": "8fcb35a1-704b-417d-ad52-d033bbb1d79b",
   "metadata": {},
   "outputs": [
    {
     "data": {
      "text/plain": [
       "'YASH'"
      ]
     },
     "execution_count": 15,
     "metadata": {},
     "output_type": "execute_result"
    }
   ],
   "source": [
    "name"
   ]
  },
  {
   "cell_type": "code",
   "execution_count": 16,
   "id": "51444cb8-3d99-44b6-b01c-5a88f7256752",
   "metadata": {},
   "outputs": [
    {
     "data": {
      "text/plain": [
       "True"
      ]
     },
     "execution_count": 16,
     "metadata": {},
     "output_type": "execute_result"
    }
   ],
   "source": [
    "bool(name)"
   ]
  },
  {
   "cell_type": "code",
   "execution_count": 17,
   "id": "ae0ad1f5-0f3c-41d7-9514-d5b77c7561f3",
   "metadata": {},
   "outputs": [],
   "source": [
    "str = \"\""
   ]
  },
  {
   "cell_type": "code",
   "execution_count": 18,
   "id": "71e5d057-e004-4e32-af33-0711732a3f91",
   "metadata": {},
   "outputs": [
    {
     "data": {
      "text/plain": [
       "False"
      ]
     },
     "execution_count": 18,
     "metadata": {},
     "output_type": "execute_result"
    }
   ],
   "source": [
    "bool(str)"
   ]
  },
  {
   "cell_type": "code",
   "execution_count": 19,
   "id": "0141081f-7006-4b61-947a-1392e513b292",
   "metadata": {},
   "outputs": [],
   "source": [
    "str = \"oo\""
   ]
  },
  {
   "cell_type": "code",
   "execution_count": 20,
   "id": "9c478c7b-f9b9-445e-92ab-fe031c0257b8",
   "metadata": {},
   "outputs": [
    {
     "data": {
      "text/plain": [
       "True"
      ]
     },
     "execution_count": 20,
     "metadata": {},
     "output_type": "execute_result"
    }
   ],
   "source": [
    "bool(str)"
   ]
  },
  {
   "cell_type": "code",
   "execution_count": 21,
   "id": "e70264f9-a703-421a-9a73-52edca5d05fc",
   "metadata": {},
   "outputs": [
    {
     "data": {
      "text/plain": [
       "str"
      ]
     },
     "execution_count": 21,
     "metadata": {},
     "output_type": "execute_result"
    }
   ],
   "source": [
    "type(str)"
   ]
  },
  {
   "cell_type": "code",
   "execution_count": 22,
   "id": "32fa4496-3aaa-4a22-a662-0927199fc091",
   "metadata": {},
   "outputs": [
    {
     "ename": "ValueError",
     "evalue": "invalid literal for int() with base 10: 'oo'",
     "output_type": "error",
     "traceback": [
      "\u001b[0;31m---------------------------------------------------------------------------\u001b[0m",
      "\u001b[0;31mValueError\u001b[0m                                Traceback (most recent call last)",
      "Cell \u001b[0;32mIn[22], line 1\u001b[0m\n\u001b[0;32m----> 1\u001b[0m \u001b[38;5;28;43mint\u001b[39;49m\u001b[43m(\u001b[49m\u001b[38;5;28;43mstr\u001b[39;49m\u001b[43m)\u001b[49m\n",
      "\u001b[0;31mValueError\u001b[0m: invalid literal for int() with base 10: 'oo'"
     ]
    }
   ],
   "source": [
    "int(str)"
   ]
  },
  {
   "cell_type": "code",
   "execution_count": 23,
   "id": "c9d62e2c-2968-47ff-89b5-152e462a11ce",
   "metadata": {},
   "outputs": [],
   "source": [
    "str = \"0\""
   ]
  },
  {
   "cell_type": "code",
   "execution_count": 24,
   "id": "ba5e112e-de37-48cf-985f-ac4a009f5e08",
   "metadata": {},
   "outputs": [
    {
     "data": {
      "text/plain": [
       "0"
      ]
     },
     "execution_count": 24,
     "metadata": {},
     "output_type": "execute_result"
    }
   ],
   "source": [
    "int(str)"
   ]
  },
  {
   "cell_type": "code",
   "execution_count": 25,
   "id": "69823528-cd41-41a8-8822-15bb8f07bf3d",
   "metadata": {},
   "outputs": [
    {
     "data": {
      "text/plain": [
       "[1, 2, 3, 4.3, (3+5j), True, 'Ajay']"
      ]
     },
     "execution_count": 25,
     "metadata": {},
     "output_type": "execute_result"
    }
   ],
   "source": [
    "#another type of data container\n",
    "list_cont = [1, 2, 3, 4.3, 3+5j, True, \"Ajay\"]\n",
    "list_cont"
   ]
  },
  {
   "cell_type": "code",
   "execution_count": 26,
   "id": "8047b130-2efc-43f0-bbf4-42b24f5fac44",
   "metadata": {},
   "outputs": [],
   "source": [
    "#mutability\n",
    "list_cont[6] = \"Bijay\""
   ]
  },
  {
   "cell_type": "code",
   "execution_count": 27,
   "id": "2ccf8eb4-c1d9-492e-a407-fa8947e09c88",
   "metadata": {},
   "outputs": [
    {
     "data": {
      "text/plain": [
       "[1, 2, 3, 4.3, (3+5j), True, 'Bijay']"
      ]
     },
     "execution_count": 27,
     "metadata": {},
     "output_type": "execute_result"
    }
   ],
   "source": [
    "list_cont"
   ]
  },
  {
   "cell_type": "code",
   "execution_count": 1,
   "id": "a293bdc1-4c33-4ce7-ae31-9d846446a83b",
   "metadata": {},
   "outputs": [
    {
     "data": {
      "text/plain": [
       "32"
      ]
     },
     "execution_count": 1,
     "metadata": {},
     "output_type": "execute_result"
    }
   ],
   "source": [
    "2**5"
   ]
  },
  {
   "cell_type": "code",
   "execution_count": 2,
   "id": "6d0c78c7-b41a-4e07-a242-57db529693e7",
   "metadata": {},
   "outputs": [
    {
     "data": {
      "text/plain": [
       "1267650600228229401496703205376"
      ]
     },
     "execution_count": 2,
     "metadata": {},
     "output_type": "execute_result"
    }
   ],
   "source": [
    "2**100"
   ]
  },
  {
   "cell_type": "code",
   "execution_count": 3,
   "id": "e6ca2493-10f9-4678-b7f5-dcba7ce54e92",
   "metadata": {},
   "outputs": [],
   "source": [
    "#fllor operator"
   ]
  },
  {
   "cell_type": "code",
   "execution_count": 4,
   "id": "26311bf0-9f64-44a9-b94d-679ed3685fcf",
   "metadata": {},
   "outputs": [
    {
     "data": {
      "text/plain": [
       "1"
      ]
     },
     "execution_count": 4,
     "metadata": {},
     "output_type": "execute_result"
    }
   ],
   "source": [
    "#fllor operator\n",
    "4//3\n"
   ]
  },
  {
   "cell_type": "code",
   "execution_count": 5,
   "id": "2c95df7b-79c8-4a90-90ac-dac755ec02d2",
   "metadata": {},
   "outputs": [
    {
     "data": {
      "text/plain": [
       "True"
      ]
     },
     "execution_count": 5,
     "metadata": {},
     "output_type": "execute_result"
    }
   ],
   "source": [
    "bool(True - False)"
   ]
  },
  {
   "cell_type": "code",
   "execution_count": 6,
   "id": "b449989c-1db9-46a4-8d1a-cb1bba56b151",
   "metadata": {},
   "outputs": [
    {
     "data": {
      "text/plain": [
       "1"
      ]
     },
     "execution_count": 6,
     "metadata": {},
     "output_type": "execute_result"
    }
   ],
   "source": [
    "(True - False)"
   ]
  },
  {
   "cell_type": "code",
   "execution_count": 7,
   "id": "24234c44-9e99-4666-b685-48d01bf1246d",
   "metadata": {},
   "outputs": [
    {
     "data": {
      "text/plain": [
       "-1"
      ]
     },
     "execution_count": 7,
     "metadata": {},
     "output_type": "execute_result"
    }
   ],
   "source": [
    "False-True"
   ]
  },
  {
   "cell_type": "code",
   "execution_count": 8,
   "id": "4b0b3e7c-ef4d-475f-987e-fb345121cb7f",
   "metadata": {},
   "outputs": [
    {
     "data": {
      "text/plain": [
       "True"
      ]
     },
     "execution_count": 8,
     "metadata": {},
     "output_type": "execute_result"
    }
   ],
   "source": [
    "bool(False-True)"
   ]
  },
  {
   "cell_type": "code",
   "execution_count": 9,
   "id": "a8fba570-1c62-4b7f-9768-0420e05c6069",
   "metadata": {},
   "outputs": [
    {
     "data": {
      "text/plain": [
       "False"
      ]
     },
     "execution_count": 9,
     "metadata": {},
     "output_type": "execute_result"
    }
   ],
   "source": [
    "bool(True-True)"
   ]
  },
  {
   "cell_type": "code",
   "execution_count": 10,
   "id": "9577a55e-7f5c-4399-8166-1a0698d5ee6c",
   "metadata": {},
   "outputs": [
    {
     "data": {
      "text/plain": [
       "False"
      ]
     },
     "execution_count": 10,
     "metadata": {},
     "output_type": "execute_result"
    }
   ],
   "source": [
    "bool(False-False)"
   ]
  },
  {
   "cell_type": "code",
   "execution_count": 11,
   "id": "3e3dcf79-6a7e-4143-a1b7-94aae16be5ff",
   "metadata": {},
   "outputs": [],
   "source": [
    "a=4"
   ]
  },
  {
   "cell_type": "code",
   "execution_count": 12,
   "id": "942ace38-9645-4738-8e52-7f62de7e46df",
   "metadata": {},
   "outputs": [
    {
     "data": {
      "text/plain": [
       "5"
      ]
     },
     "execution_count": 12,
     "metadata": {},
     "output_type": "execute_result"
    }
   ],
   "source": [
    "a=5\n",
    "a\n"
   ]
  },
  {
   "cell_type": "code",
   "execution_count": 13,
   "id": "36f66d62-d5e8-4cde-880b-232ae1101b97",
   "metadata": {},
   "outputs": [],
   "source": [
    "a//=3"
   ]
  },
  {
   "cell_type": "code",
   "execution_count": 14,
   "id": "8eca7e1c-88e4-4040-a90f-a9f1cdf8308c",
   "metadata": {},
   "outputs": [
    {
     "data": {
      "text/plain": [
       "1"
      ]
     },
     "execution_count": 14,
     "metadata": {},
     "output_type": "execute_result"
    }
   ],
   "source": [
    "a"
   ]
  },
  {
   "cell_type": "code",
   "execution_count": 15,
   "id": "99fde41d-9f33-4380-82a3-61801e3fd9fe",
   "metadata": {},
   "outputs": [
    {
     "data": {
      "text/plain": [
       "False"
      ]
     },
     "execution_count": 15,
     "metadata": {},
     "output_type": "execute_result"
    }
   ],
   "source": [
    "a =2\n",
    "b=3\n",
    "a is b"
   ]
  },
  {
   "cell_type": "code",
   "execution_count": 16,
   "id": "9c3e464a-5a1b-4ad2-a479-8f7acbb5b120",
   "metadata": {},
   "outputs": [
    {
     "data": {
      "text/plain": [
       "True"
      ]
     },
     "execution_count": 16,
     "metadata": {},
     "output_type": "execute_result"
    }
   ],
   "source": [
    "a is not b"
   ]
  },
  {
   "cell_type": "code",
   "execution_count": null,
   "id": "d2b10cd1-b78a-47d7-b82a-d13c42696b0f",
   "metadata": {},
   "outputs": [],
   "source": []
  }
 ],
 "metadata": {
  "kernelspec": {
   "display_name": "Python 3 (ipykernel)",
   "language": "python",
   "name": "python3"
  },
  "language_info": {
   "codemirror_mode": {
    "name": "ipython",
    "version": 3
   },
   "file_extension": ".py",
   "mimetype": "text/x-python",
   "name": "python",
   "nbconvert_exporter": "python",
   "pygments_lexer": "ipython3",
   "version": "3.10.8"
  }
 },
 "nbformat": 4,
 "nbformat_minor": 5
}
